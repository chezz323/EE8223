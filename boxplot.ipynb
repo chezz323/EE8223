{
 "cells": [
  {
   "cell_type": "code",
   "execution_count": 1,
   "id": "5e69eaf6",
   "metadata": {},
   "outputs": [],
   "source": [
    "# Import libraries\n",
    "import matplotlib.pyplot as plt\n",
    "import numpy as np\n",
    "import pandas as pd\n",
    "import seaborn as sns"
   ]
  },
  {
   "cell_type": "code",
   "execution_count": 2,
   "id": "53e5c258",
   "metadata": {},
   "outputs": [
    {
     "data": {
      "text/html": [
       "<div>\n",
       "<style scoped>\n",
       "    .dataframe tbody tr th:only-of-type {\n",
       "        vertical-align: middle;\n",
       "    }\n",
       "\n",
       "    .dataframe tbody tr th {\n",
       "        vertical-align: top;\n",
       "    }\n",
       "\n",
       "    .dataframe thead th {\n",
       "        text-align: right;\n",
       "    }\n",
       "</style>\n",
       "<table border=\"1\" class=\"dataframe\">\n",
       "  <thead>\n",
       "    <tr style=\"text-align: right;\">\n",
       "      <th></th>\n",
       "      <th>MODEL</th>\n",
       "      <th>LOSS</th>\n",
       "      <th>F1-score</th>\n",
       "    </tr>\n",
       "  </thead>\n",
       "  <tbody>\n",
       "    <tr>\n",
       "      <th>0</th>\n",
       "      <td>unet</td>\n",
       "      <td>BCE</td>\n",
       "      <td>0.812040</td>\n",
       "    </tr>\n",
       "    <tr>\n",
       "      <th>1</th>\n",
       "      <td>unet</td>\n",
       "      <td>BCE</td>\n",
       "      <td>0.887671</td>\n",
       "    </tr>\n",
       "    <tr>\n",
       "      <th>2</th>\n",
       "      <td>unet</td>\n",
       "      <td>BCE</td>\n",
       "      <td>0.020000</td>\n",
       "    </tr>\n",
       "    <tr>\n",
       "      <th>3</th>\n",
       "      <td>unet</td>\n",
       "      <td>BCE</td>\n",
       "      <td>0.775372</td>\n",
       "    </tr>\n",
       "    <tr>\n",
       "      <th>4</th>\n",
       "      <td>unet</td>\n",
       "      <td>BCE</td>\n",
       "      <td>0.831025</td>\n",
       "    </tr>\n",
       "  </tbody>\n",
       "</table>\n",
       "</div>"
      ],
      "text/plain": [
       "  MODEL LOSS  F1-score\n",
       "0  unet  BCE  0.812040\n",
       "1  unet  BCE  0.887671\n",
       "2  unet  BCE  0.020000\n",
       "3  unet  BCE  0.775372\n",
       "4  unet  BCE  0.831025"
      ]
     },
     "execution_count": 2,
     "metadata": {},
     "output_type": "execute_result"
    }
   ],
   "source": [
    "result = pd.read_csv('test_result/result_integrate.csv')\n",
    "result.head()"
   ]
  },
  {
   "cell_type": "code",
   "execution_count": 31,
   "id": "ba0cd15a",
   "metadata": {},
   "outputs": [],
   "source": [
    "# Function for the boxplot\n",
    "def boxplot(data, name=None, hue=None, save=True, title=False):\n",
    "    # settings for figure\n",
    "    plt.rcParams['figure.figsize'] = (10, 10)\n",
    "    plt.rc('font', size=16)  \n",
    "    plt.figure(facecolor='white')\n",
    "    sns.set_palette('pastel')\n",
    "\n",
    "    ax1 = plt.subplot(1, 1, 1)\n",
    "    if hue is not None:\n",
    "        sns.boxplot(x='LOSS', y='F1-score', hue=hue, data=data)\n",
    "    else:\n",
    "        sns.boxplot(x='LOSS', y='F1-score', data=data)\n",
    "    plt.ylabel(' ')\n",
    "    plt.xlabel('LOSS')\n",
    "    '''\n",
    "    ax2 = plt.subplot(1, 2, 2)\n",
    "    if hue is not None:\n",
    "        sns.boxplot(x='LOSS', y='F1-score', hue=hue, data=data)\n",
    "    else:\n",
    "        sns.boxplot(x='LOSS', y='F1-score', data=data)\n",
    "    plt.ylabel(' ')\n",
    "    plt.xlabel('LOSS')\n",
    "    '''\n",
    "    name = name if name is not None else str(data)\n",
    "    plt.title('F1-Score')\n",
    "    if title:\n",
    "        plt.suptitle(name, fontsize=25)\n",
    "    \n",
    "    if save:\n",
    "        file_name = 'boxplot_'+name+'_by'+hue+'.png' if hue is not None else 'boxplot_'+name+'.png' \n",
    "        plt.savefig(file_name, dpi=300)\n",
    "    plt.show()"
   ]
  },
  {
   "cell_type": "code",
   "execution_count": 32,
   "id": "c7ea627a",
   "metadata": {},
   "outputs": [
    {
     "data": {
      "image/png": "[encoded data removed]",
      "text/plain": [
       "<Figure size 720x720 with 1 Axes>"
      ]
     },
     "metadata": {},
     "output_type": "display_data"
    }
   ],
   "source": [
    "boxplot(result, name='ALL', hue='MODEL')"
   ]
  },
  {
   "cell_type": "code",
   "execution_count": 24,
   "id": "0ad8afc8",
   "metadata": {},
   "outputs": [],
   "source": [
    "u = result.loc[result['MODEL']=='unet']\n",
    "r = result.loc[result['MODEL']=='resunet']\n",
    "\n",
    "u_b = u.loc[u['LOSS']=='BCE']\n",
    "u_d = u.loc[u['LOSS']=='DL']\n",
    "u_f = u.loc[u['LOSS']=='FL']\n",
    "\n",
    "r_b = r.loc[r['LOSS']=='BCE']\n",
    "r_d = r.loc[r['LOSS']=='DL']\n",
    "r_f = r.loc[r['LOSS']=='FL']"
   ]
  },
  {
   "cell_type": "code",
   "execution_count": 33,
   "id": "77ff4ecd",
   "metadata": {},
   "outputs": [
    {
     "name": "stdout",
     "output_type": "stream",
     "text": [
      "0.6990304113288288 0.2294847422918281\n",
      "0.7594085899497486 0.23004069650251616\n",
      "0.5885187496415096 0.19564658970836102\n"
     ]
    }
   ],
   "source": [
    "print(u_b['F1-score'].mean(), u_b['F1-score'].std())\n",
    "print(u_d['F1-score'].mean(), u_d['F1-score'].std())\n",
    "print(u_f['F1-score'].mean(), u_f['F1-score'].std())"
   ]
  },
  {
   "cell_type": "code",
   "execution_count": 37,
   "id": "c26777a1",
   "metadata": {},
   "outputs": [
    {
     "name": "stdout",
     "output_type": "stream",
     "text": [
      "0.6281996113431952 0.3047524832564596\n",
      "0.6950791844230765 0.24216458300402435\n",
      "0.22274842902793288 0.08887392873912067\n"
     ]
    }
   ],
   "source": [
    "print(r_b['F1-score'].mean(), r_b['F1-score'].std())\n",
    "print(r_d['F1-score'].mean(), r_d['F1-score'].std())\n",
    "print(r_f['F1-score'].mean(), r_f['F1-score'].std())"
   ]
  },
  {
   "cell_type": "code",
   "execution_count": null,
   "id": "b0ddf7f6",
   "metadata": {},
   "outputs": [],
   "source": []
  }
 ],
 "metadata": {
  "kernelspec": {
   "display_name": "Python 3 (ipykernel)",
   "language": "python",
   "name": "python3"
  },
  "language_info": {
   "codemirror_mode": {
    "name": "ipython",
    "version": 3
   },
   "file_extension": ".py",
   "mimetype": "text/x-python",
   "name": "python",
   "nbconvert_exporter": "python",
   "pygments_lexer": "ipython3",
   "version": "3.9.12"
  }
 },
 "nbformat": 4,
 "nbformat_minor": 5
}
